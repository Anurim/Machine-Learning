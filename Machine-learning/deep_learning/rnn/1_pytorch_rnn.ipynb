{
 "cells": [
  {
   "cell_type": "markdown",
   "metadata": {
    "toc": true
   },
   "source": [
    "<h1>Table of Contents<span class=\"tocSkip\"></span></h1>\n",
    "<div class=\"toc\"><ul class=\"toc-item\"><li><span><a href=\"#Pytorch-Introduction\" data-toc-modified-id=\"Pytorch-Introduction-1\"><span class=\"toc-item-num\">1&nbsp;&nbsp;</span>Pytorch Introduction</a></span><ul class=\"toc-item\"><li><span><a href=\"#Linear-Regression\" data-toc-modified-id=\"Linear-Regression-1.1\"><span class=\"toc-item-num\">1.1&nbsp;&nbsp;</span>Linear Regression</a></span></li><li><span><a href=\"#Linear-Regression-Version-2\" data-toc-modified-id=\"Linear-Regression-Version-2-1.2\"><span class=\"toc-item-num\">1.2&nbsp;&nbsp;</span>Linear Regression Version 2</a></span></li><li><span><a href=\"#Logistic-Regression\" data-toc-modified-id=\"Logistic-Regression-1.3\"><span class=\"toc-item-num\">1.3&nbsp;&nbsp;</span>Logistic Regression</a></span></li><li><span><a href=\"#Recurrent-Neural-Network-(RNN)\" data-toc-modified-id=\"Recurrent-Neural-Network-(RNN)-1.4\"><span class=\"toc-item-num\">1.4&nbsp;&nbsp;</span>Recurrent Neural Network (RNN)</a></span><ul class=\"toc-item\"><li><span><a href=\"#Vanilla-RNN\" data-toc-modified-id=\"Vanilla-RNN-1.4.1\"><span class=\"toc-item-num\">1.4.1&nbsp;&nbsp;</span>Vanilla RNN</a></span></li><li><span><a href=\"#LSTM\" data-toc-modified-id=\"LSTM-1.4.2\"><span class=\"toc-item-num\">1.4.2&nbsp;&nbsp;</span>LSTM</a></span></li></ul></li></ul></li><li><span><a href=\"#Reference\" data-toc-modified-id=\"Reference-2\"><span class=\"toc-item-num\">2&nbsp;&nbsp;</span>Reference</a></span></li></ul></div>"
   ]
  },
  {
   "cell_type": "code",
   "execution_count": 1,
   "metadata": {},
   "outputs": [
    {
     "data": {
      "text/html": [
       "\n",
       "<style>\n",
       "    html {\n",
       "        font-size: 18px !important;\n",
       "    }\n",
       "\n",
       "    body {\n",
       "        background-color: #FFF !important;\n",
       "        font-weight: 1rem;\n",
       "        font-family: 'Source Sans Pro', \"Helvetica Neue\", Helvetica, Arial, sans-serif;\n",
       "    }\n",
       "\n",
       "    body .notebook-app {\n",
       "        background-color: #FFF !important;\n",
       "    }\n",
       "\n",
       "    #header {\n",
       "        box-shadow: none !important;\n",
       "    }\n",
       "\n",
       "    #notebook {\n",
       "        padding-top: 0px;\n",
       "    }\n",
       "\n",
       "    #notebook-container {\n",
       "        box-shadow: none;\n",
       "        -webkit-box-shadow: none;\n",
       "        padding: 10px;\n",
       "    }\n",
       "\n",
       "    div.cell {\n",
       "        width: 1000px;\n",
       "        margin-left: 0% !important;\n",
       "        margin-right: auto;\n",
       "    }\n",
       "\n",
       "    div.cell.selected {\n",
       "        border: 1px dashed #CCCCCC;\n",
       "    }\n",
       "\n",
       "    .edit_mode div.cell.selected {\n",
       "        border: 1px dashed #828282;\n",
       "    }\n",
       "\n",
       "    div.output_wrapper {\n",
       "        margin-top: 8px;\n",
       "    }\n",
       "\n",
       "    a {\n",
       "        color: #383838;\n",
       "    }\n",
       "\n",
       "    code,\n",
       "    kbd,\n",
       "    pre,\n",
       "    samp {\n",
       "        font-family: 'Menlo', monospace !important;\n",
       "        font-size: 0.75rem !important;\n",
       "    }\n",
       "\n",
       "    h1 {\n",
       "        font-size: 2rem !important;\n",
       "        font-weight: 500 !important;\n",
       "        letter-spacing: 3px !important;\n",
       "        text-transform: uppercase !important;\n",
       "    }\n",
       "\n",
       "    h2 {\n",
       "        font-size: 1.8rem !important;\n",
       "        font-weight: 400 !important;\n",
       "        letter-spacing: 3px !important;\n",
       "        text-transform: none !important;\n",
       "    }\n",
       "\n",
       "    h3 {\n",
       "        font-size: 1.5rem !important;\n",
       "        font-weight: 400 !important;\n",
       "        font-style: italic !important;\n",
       "        display: block !important;\n",
       "    }\n",
       "\n",
       "    h4,\n",
       "    h5,\n",
       "    h6 {\n",
       "        font-size: 1rem !important;\n",
       "        font-weight: 400 !important;\n",
       "        display: block !important;\n",
       "    }\n",
       "\n",
       "    .prompt {\n",
       "        font-family: 'Menlo', monospace !important;\n",
       "        font-size: 0.75rem;\n",
       "        text-align: right;\n",
       "        line-height: 1.21429rem;\n",
       "    }\n",
       "\n",
       "    /* INTRO PAGE */\n",
       "\n",
       "    .toolbar_info,\n",
       "    .list-container {\n",
       "        ;\n",
       "    }\n",
       "    /* NOTEBOOK */\n",
       "\n",
       "    div#header-container {\n",
       "        display: none !important;\n",
       "    }\n",
       "\n",
       "    div#notebook {\n",
       "        border-top: none;\n",
       "        font-size: 1rem;\n",
       "    }\n",
       "\n",
       "    div.input_prompt {\n",
       "        color: #C74483;\n",
       "    }\n",
       "\n",
       "    .code_cell div.input_prompt:after,\n",
       "    div.output_prompt:after {\n",
       "        content: '\\25b6';\n",
       "    }\n",
       "\n",
       "    div.output_prompt {\n",
       "        color: #2B88D9;\n",
       "    }\n",
       "\n",
       "    div.input_area {\n",
       "        border-radius: 0px;\n",
       "        border: 1px solid #d8d8d8;\n",
       "    }\n",
       "\n",
       "    div.output_area pre {\n",
       "        font-weight: normal;\n",
       "    }\n",
       "\n",
       "    div.output_subarea {\n",
       "        font-weight: normal;\n",
       "    }\n",
       "\n",
       "    .rendered_html pre,\n",
       "    .rendered_html table,\n",
       "    .rendered_html th,\n",
       "    .rendered_html tr,\n",
       "    .rendered_html td {\n",
       "        border: 1px #828282 solid;\n",
       "        font-size: 0.75rem;\n",
       "        font-family: 'Menlo', monospace;\n",
       "    }\n",
       "\n",
       "    .rendered_html th,\n",
       "    .rendered_html tr,\n",
       "    .rendered_html td {\n",
       "        padding: 5px 10px;\n",
       "    }\n",
       "\n",
       "    .rendered_html th {\n",
       "        font-weight: normal;\n",
       "        background: #f8f8f8;\n",
       "    }\n",
       "\n",
       "    a:link{\n",
       "       font-weight: bold;\n",
       "       color:#447adb;\n",
       "    }\n",
       "    a:visited{\n",
       "       font-weight: bold;\n",
       "       color: #1d3b84;\n",
       "    }\n",
       "    a:hover{\n",
       "       font-weight: bold;\n",
       "       color: #1d3b84;\n",
       "    }\n",
       "    a:focus{\n",
       "       font-weight: bold;\n",
       "       color:#447adb;\n",
       "    }\n",
       "    a:active{\n",
       "       font-weight: bold;\n",
       "       color:#447adb;\n",
       "    }\n",
       "    .rendered_html :link {\n",
       "       text-decoration: underline; \n",
       "    }\n",
       "\n",
       "    div.output_html {\n",
       "        font-weight: 1rem;\n",
       "        font-family: 'Source Sans Pro', \"Helvetica Neue\", Helvetica, Arial, sans-serif;\n",
       "    }\n",
       "\n",
       "    table.dataframe tr {\n",
       "        border: 1px #CCCCCC;\n",
       "    }\n",
       "\n",
       "    div.cell.selected {\n",
       "        border-radius: 0px;\n",
       "    }\n",
       "\n",
       "    div.cell.edit_mode {\n",
       "        border-radius: 0px;\n",
       "        border: thin solid #CF5804;\n",
       "    }\n",
       "\n",
       "    span.ansiblue {\n",
       "        color: #00A397;\n",
       "    }\n",
       "\n",
       "    span.ansigray {\n",
       "        color: #d8d8d8;\n",
       "    }\n",
       "\n",
       "    span.ansigreen {\n",
       "        color: #688A0A;\n",
       "    }\n",
       "\n",
       "    span.ansipurple {\n",
       "        color: #975DDE;\n",
       "    }\n",
       "\n",
       "    span.ansired {\n",
       "        color: #D43132;\n",
       "    }\n",
       "\n",
       "    span.ansiyellow {\n",
       "        color: #D9AA00;\n",
       "    }\n",
       "\n",
       "    div.output_stderr {\n",
       "        background-color: #D43132;\n",
       "    }\n",
       "\n",
       "    div.output_stderr pre {\n",
       "        color: #e8e8e8;\n",
       "    }\n",
       "\n",
       "    .cm-s-ipython.CodeMirror {\n",
       "        background: #F8F8F8;\n",
       "    }\n",
       "\n",
       "    .cm-s-ipython div.CodeMirror-selected {\n",
       "        background: #e8e8e8 !important;\n",
       "    }\n",
       "\n",
       "    .cm-s-ipython .CodeMirror-gutters {\n",
       "        background: #F8F8F8;\n",
       "        border-right: 0px;\n",
       "    }\n",
       "\n",
       "    .cm-s-ipython .CodeMirror-linenumber {\n",
       "        color: #b8b8b8;\n",
       "    }\n",
       "\n",
       "    .cm-s-ipython .CodeMirror-cursor {\n",
       "        border-left: 1px solid #585858 !important;\n",
       "    }\n",
       "\n",
       "    .cm-s-ipython span.cm-atom {\n",
       "        color: #C74483;\n",
       "    }\n",
       "\n",
       "    .cm-s-ipython span.cm-number {\n",
       "        color: #C74483;\n",
       "    }\n",
       "\n",
       "    .cm-s-ipython span.cm-property,\n",
       "    .cm-s-ipython span.cm-attribute {\n",
       "        color: #688A0A;\n",
       "    }\n",
       "\n",
       "    .cm-s-ipython span.cm-keyword {\n",
       "        font-weight: normal;\n",
       "        color: #D43132;\n",
       "    }\n",
       "\n",
       "    .cm-s-ipython span.cm-string {\n",
       "        color: #D9AA00;\n",
       "    }\n",
       "\n",
       "    .cm-s-ipython span.cm-operator {\n",
       "        font-weight: normal;\n",
       "    }\n",
       "\n",
       "    .cm-s-ipython span.cm-builtin {\n",
       "        color: #2B88D9;\n",
       "    }\n",
       "\n",
       "    .cm-s-ipython span.cm-variable {\n",
       "        color: #00A397;\n",
       "    }\n",
       "\n",
       "    .cm-s-ipython span.cm-variable-2 {\n",
       "        color: #2B88D9;\n",
       "    }\n",
       "\n",
       "    .cm-s-ipython span.cm-def {\n",
       "        color: #00A397;\n",
       "    }\n",
       "\n",
       "    .cm-s-ipython span.cm-error {\n",
       "        background: #FFBDBD;\n",
       "        color: #D43132;\n",
       "    }\n",
       "\n",
       "    .cm-s-ipython span.cm-tag {\n",
       "        color: #D43132;\n",
       "    }\n",
       "\n",
       "    .cm-s-ipython span.cm-link {\n",
       "        color: #975DDE;\n",
       "    }\n",
       "\n",
       "    .cm-s-ipython .CodeMirror-matchingbracket {\n",
       "        text-decoration: underline;\n",
       "         !important;\n",
       "    }\n",
       "</style>\n",
       "\n",
       "<script>\n",
       "    MathJax.Hub.Config({\n",
       "                        TeX: {\n",
       "                           extensions: [\"AMSmath.js\"]\n",
       "                           },\n",
       "                tex2jax: {\n",
       "                    inlineMath: [ ['$','$'], [\"\\\\(\",\"\\\\)\"] ],\n",
       "                    displayMath: [ ['$$','$$'], [\"\\\\[\",\"\\\\]\"] ]\n",
       "                },\n",
       "                displayAlign: 'center', // Change this to 'center' to center equations.\n",
       "                \"HTML-CSS\": {\n",
       "                    scale:100,\n",
       "                        availableFonts: [],\n",
       "                        preferredFont:null,\n",
       "                        webFont: \"TeX\",\n",
       "                    styles: {'.MathJax_Display': {\"margin\": 4}}\n",
       "                }\n",
       "        });\n",
       "</script>"
      ],
      "text/plain": [
       "<IPython.core.display.HTML object>"
      ]
     },
     "execution_count": 1,
     "metadata": {},
     "output_type": "execute_result"
    }
   ],
   "source": [
    "# code for loading the format for the notebook\n",
    "import os\n",
    "\n",
    "# path : store the current path to convert back to it later\n",
    "path = os.getcwd()\n",
    "os.chdir(os.path.join('..', '..', 'notebook_format'))\n",
    "from formats import load_style\n",
    "load_style(css_style = 'custom2.css', plot_style = False)"
   ]
  },
  {
   "cell_type": "code",
   "execution_count": 2,
   "metadata": {},
   "outputs": [
    {
     "name": "stdout",
     "output_type": "stream",
     "text": [
      "Ethen 2018-05-10 19:51:37 \n",
      "\n",
      "CPython 3.6.4\n",
      "IPython 6.3.1\n",
      "\n",
      "torch 0.4.0\n",
      "numpy 1.14.3\n",
      "matplotlib 2.2.2\n"
     ]
    }
   ],
   "source": [
    "os.chdir(path)\n",
    "\n",
    "# 1. magic for inline plot\n",
    "# 2. magic to print version\n",
    "# 3. magic so that the notebook will reload external python modules\n",
    "# 4. magic to enable retina (high resolution) plots\n",
    "# https://gist.github.com/minrk/3301035\n",
    "%matplotlib inline\n",
    "%load_ext watermark\n",
    "%load_ext autoreload\n",
    "%autoreload 2\n",
    "%config InlineBackend.figure_format = 'retina'\n",
    "\n",
    "import numpy as np\n",
    "import matplotlib.pyplot as plt\n",
    "import torch\n",
    "import torch.nn as nn\n",
    "import torch.optim as optim\n",
    "import torch.nn.functional as F\n",
    "from torch.autograd import Variable\n",
    "\n",
    "%watermark -a 'Ethen' -d -t -v -p torch,numpy,matplotlib"
   ]
  },
  {
   "cell_type": "markdown",
   "metadata": {},
   "source": [
    "# Pytorch Introduction"
   ]
  },
  {
   "cell_type": "markdown",
   "metadata": {},
   "source": [
    "```bash\n",
    "# installation on a mac\n",
    "# for more information on installation refer to\n",
    "# the following link:\n",
    "# http://pytorch.org/\n",
    "conda install pytorch torchvision -c pytorch \n",
    "```\n",
    "\n",
    "At its core, PyTorch provides two main features:\n",
    "\n",
    "- An n-dimensional Tensor, similar to numpy array but can run on GPUs. PyTorch provides many functions for operating on these Tensors, thus it can be used as a general purpose scientific computing tool.\n",
    "- Automatic differentiation for building and training neural networks.\n",
    "\n",
    "Let's dive in by looking at some examples:"
   ]
  },
  {
   "cell_type": "markdown",
   "metadata": {},
   "source": [
    "## Linear Regression"
   ]
  },
  {
   "cell_type": "code",
   "execution_count": 3,
   "metadata": {},
   "outputs": [],
   "source": [
    "# make up some trainig data and specify the type to be float, i.e. np.float32\n",
    "# We DO not recommend double, i.e. np.float64, especially on the GPU. GPUs have bad\n",
    "# double precision performance since they are optimized for float32\n",
    "X_train = np.asarray([3.3, 4.4, 5.5, 6.71, 6.93, 4.168, 9.779, 6.182, 7.59, \n",
    "                      2.167, 7.042, 10.791, 5.313, 7.997, 5.654, 9.27, 3.1], dtype = np.float32)\n",
    "X_train = X_train.reshape(-1, 1)\n",
    "y_train = np.asarray([1.7, 2.76, 2.09, 3.19, 1.694, 1.573, 3.366, 2.596, 2.53, \n",
    "                      1.221, 2.827, 3.465, 1.65, 2.904, 2.42, 2.94, 1.3], dtype = np.float32)\n",
    "y_train = y_train.reshape(-1, 1)\n",
    "\n",
    "# Convert numpy array to Pytorch Tensors to hold input and outputs\n",
    "# and wrap them into Variables. Variables wraps a Tensor and records\n",
    "# the history of operations applied to it, i.e. it can record the\n",
    "# gradients. Here we're setting requires_grad = False as it indicates\n",
    "# we do not need to compute gradients with respect to these Variables\n",
    "# during the backward pass\n",
    "X = Variable(torch.from_numpy(X_train), requires_grad = False)\n",
    "y = Variable(torch.from_numpy(y_train), requires_grad = False)"
   ]
  },
  {
   "cell_type": "markdown",
   "metadata": {},
   "source": [
    "Here we start defining the linear regression model, recall that in linear regression, we are optimizing for the squared loss.\n",
    "\n",
    "\\begin{align}\n",
    "L = \\frac{1}{2}(y-(Xw + b))^2\n",
    "\\end{align}"
   ]
  },
  {
   "cell_type": "code",
   "execution_count": 4,
   "metadata": {},
   "outputs": [],
   "source": [
    "# with linear regression, we apply a linear transformation\n",
    "# to the incoming data, i.e. y = Xw + b, here we only have a 1\n",
    "# dimensional data, thus the feature size will be 1\n",
    "model = nn.Linear(in_features = 1, out_features = 1)\n",
    "\n",
    "# although we can write our own loss function, the nn module\n",
    "# also contains definitions of popular loss functions; here\n",
    "# we use the MSELoss, a.k.a the L2 loss, and size_average parameter\n",
    "# simply divides it with the number of examples\n",
    "criterion = nn.MSELoss(size_average = True)\n",
    "\n",
    "# Then we use the optim module to define an Optimizer that will update the weights of\n",
    "# the model for us. Here we will use SGD; but it contains many other\n",
    "# optimization algorithms. The first argument to the SGD constructor tells the\n",
    "# optimizer the parameters that it should update\n",
    "learning_rate = 0.01\n",
    "optimizer = optim.SGD(model.parameters(), lr = learning_rate)"
   ]
  },
  {
   "cell_type": "code",
   "execution_count": 5,
   "metadata": {},
   "outputs": [],
   "source": [
    "# start the optimization process\n",
    "n_epochs = 100\n",
    "for _ in range(n_epochs):\n",
    "    # torch accumulates the gradients, thus before running new things\n",
    "    # use the optimizer object to zero all of the gradients for the\n",
    "    # variables it will update (which are the learnable weights of the model),\n",
    "    # think in terms of refreshing the gradients before doing the another round of update\n",
    "    optimizer.zero_grad()\n",
    "\n",
    "    # forward pass: compute predicted y by passing X to the model\n",
    "    output = model(X)\n",
    "\n",
    "    # compute the loss function\n",
    "    loss = criterion(output, y)\n",
    "\n",
    "    # backward pass: compute gradient of the loss with respect to model parameters\n",
    "    loss.backward()\n",
    "\n",
    "    # call the step function on an Optimizer makes an update to its parameters\n",
    "    optimizer.step()"
   ]
  },
  {
   "cell_type": "code",
   "execution_count": 6,
   "metadata": {},
   "outputs": [
    {
     "data": {
      "image/png": "[encoded data removed]",
      "text/plain": [
       "<Figure size 576x432 with 1 Axes>"
      ]
     },
     "metadata": {
      "image/png": {
       "height": 363,
       "width": 491
      }
     },
     "output_type": "display_data"
    }
   ],
   "source": [
    "# plot the data and the fitted line to confirm the result\n",
    "\n",
    "# change default style figure and font size\n",
    "plt.rcParams['figure.figsize'] = 8, 6\n",
    "plt.rcParams['font.size'] = 14\n",
    "\n",
    "# access the data of the torch Variable,\n",
    "# which will be a torch FloatTensor and\n",
    "# convert it back to a numpy ndarray\n",
    "y_pred = model(X).data.numpy()\n",
    "plt.plot(X_train, y_train, 'ro', label = 'Original data')\n",
    "plt.plot(X_train, y_pred, label = 'Fitted line')\n",
    "plt.legend()\n",
    "plt.show()"
   ]
  },
  {
   "cell_type": "code",
   "execution_count": 7,
   "metadata": {},
   "outputs": [
    {
     "data": {
      "text/plain": [
       "OrderedDict([('weight', tensor([[ 0.3040]])), ('bias', tensor([ 0.4274]))])"
      ]
     },
     "execution_count": 7,
     "metadata": {},
     "output_type": "execute_result"
    }
   ],
   "source": [
    "# to get the parameters, i.e. weight and bias from the model,\n",
    "# we can use the state_dict() attribute from the model that\n",
    "# we've defined\n",
    "model.state_dict()"
   ]
  },
  {
   "cell_type": "code",
   "execution_count": 8,
   "metadata": {},
   "outputs": [
    {
     "name": "stdout",
     "output_type": "stream",
     "text": [
      "tensor([[ 0.3040]]) tensor([ 0.4274])\n"
     ]
    }
   ],
   "source": [
    "# or we could get it from the model's parameter\n",
    "# which by itself is a generator\n",
    "param_list = list(model.parameters())\n",
    "print(param_list[0].data, param_list[1].data)"
   ]
  },
  {
   "cell_type": "markdown",
   "metadata": {},
   "source": [
    "## Linear Regression Version 2"
   ]
  },
  {
   "cell_type": "markdown",
   "metadata": {},
   "source": [
    "A better way of defining our model is to inherit the `nn.Module` class, to use it all we need to do is define our model's forward pass and the `nn.Module` will automatically define the backward method for us, where the gradients will be computed using autograd."
   ]
  },
  {
   "cell_type": "code",
   "execution_count": 9,
   "metadata": {},
   "outputs": [
    {
     "name": "stdout",
     "output_type": "stream",
     "text": [
      "Epoch [20/100], Loss: 0.4099\n",
      "Epoch [40/100], Loss: 0.3862\n",
      "Epoch [60/100], Loss: 0.3647\n",
      "Epoch [80/100], Loss: 0.3451\n",
      "Epoch [100/100], Loss: 0.3274\n"
     ]
    }
   ],
   "source": [
    "class LinearRegression(nn.Module):\n",
    "\n",
    "    def __init__(self, in_features, out_features):\n",
    "        super().__init__()  # boilerplate call\n",
    "        self.in_features = in_features\n",
    "        self.out_features = out_features\n",
    "        self.linear = nn.Linear(in_features, out_features)  \n",
    "\n",
    "    def forward(self, x):\n",
    "        out = self.linear(x)\n",
    "        return out\n",
    "\n",
    "\n",
    "# same optimization process\n",
    "n_epochs = 100\n",
    "learning_rate = 0.01\n",
    "criterion = nn.MSELoss(size_average = True)\n",
    "model = LinearRegression(in_features = 1, out_features = 1)\n",
    "\n",
    "# when we defined our LinearRegression class, we've assigned\n",
    "# a neural network's component/layer to a class variable in the\n",
    "# __init__ function, and now notice that we can directly call\n",
    "# .parameters() on the class we've defined due to some Python magic\n",
    "# from the Pytorch devs\n",
    "optimizer = optim.SGD(model.parameters(), lr = learning_rate)\n",
    "\n",
    "for epoch in range(n_epochs):\n",
    "    # forward + backward + optimize\n",
    "    optimizer.zero_grad()\n",
    "    output = model(X)\n",
    "    loss = criterion(output, y)\n",
    "    loss.backward()\n",
    "    optimizer.step()\n",
    "\n",
    "    # print the loss per 20 epoch this time\n",
    "    if (epoch + 1) % 20 == 0:\n",
    "        # starting from pytorch 0.4.0, we use .item to get a python number from a\n",
    "        # torch scalar, before loss.item() looks something like loss.data[0]\n",
    "        print('Epoch [{}/{}], Loss: {:.4f}'.format(epoch + 1, n_epochs, loss.item()))"
   ]
  },
  {
   "cell_type": "markdown",
   "metadata": {},
   "source": [
    "After training our model, we can also [save the model's parameter and load it back into the model in the future](https://stackoverflow.com/questions/42703500/best-way-to-save-a-trained-model-in-pytorch)"
   ]
  },
  {
   "cell_type": "code",
   "execution_count": 10,
   "metadata": {},
   "outputs": [
    {
     "data": {
      "image/png": "[encoded data removed]",
      "text/plain": [
       "<Figure size 576x432 with 1 Axes>"
      ]
     },
     "metadata": {
      "image/png": {
       "height": 363,
       "width": 491
      }
     },
     "output_type": "display_data"
    }
   ],
   "source": [
    "checkpoint_path = 'model.pkl'\n",
    "torch.save(model.state_dict(), checkpoint_path)\n",
    "model.load_state_dict(torch.load(checkpoint_path))\n",
    "\n",
    "y_pred = model(X).data.numpy()\n",
    "plt.plot(X_train, y_train, 'ro', label = 'Original data')\n",
    "plt.plot(X_train, y_pred, label = 'Fitted line')\n",
    "plt.legend()\n",
    "plt.show()"
   ]
  },
  {
   "cell_type": "markdown",
   "metadata": {},
   "source": [
    "## Logistic Regression"
   ]
  },
  {
   "cell_type": "markdown",
   "metadata": {},
   "source": [
    "Let's now look at a classification example, here we'll define a logistic regression that takes in a bag of words representation of some text and predicts over two labels \"English\" and \"Spanish\"."
   ]
  },
  {
   "cell_type": "code",
   "execution_count": 11,
   "metadata": {},
   "outputs": [],
   "source": [
    "# define some toy dataset\n",
    "train_data = [\n",
    "    ('me gusta comer en la cafeteria'.split(), 'SPANISH'),\n",
    "    ('Give it to me'.split(), 'ENGLISH'),\n",
    "    ('No creo que sea una buena idea'.split(), 'SPANISH'),\n",
    "    ('No it is not a good idea to get lost at sea'.split(), 'ENGLISH')\n",
    "]\n",
    "\n",
    "test_data = [\n",
    "    ('Yo creo que si'.split(), 'SPANISH'),\n",
    "    ('it is lost on me'.split(), 'ENGLISH')\n",
    "]"
   ]
  },
  {
   "cell_type": "markdown",
   "metadata": {},
   "source": [
    "The next code chunk create words to index mappings. To build our bag of words (BoW) representation, we need to assign each word in our vocabulary an unique index. Let's say our entire corpus only consists of two words \"hello\" and \"world\", with \"hello\" corresponding to index 0 and \"world\" to index 1. Then the BoW vector for the sentence \"hello world hello world\" will be [2, 2], i.e. the count for the word \"hello\" will be at position 0 of the array and so on."
   ]
  },
  {
   "cell_type": "code",
   "execution_count": 12,
   "metadata": {},
   "outputs": [
    {
     "name": "stdout",
     "output_type": "stream",
     "text": [
      "{'me': 0, 'gusta': 1, 'comer': 2, 'en': 3, 'la': 4, 'cafeteria': 5, 'Give': 6, 'it': 7, 'to': 8, 'No': 9, 'creo': 10, 'que': 11, 'sea': 12, 'una': 13, 'buena': 14, 'idea': 15, 'is': 16, 'not': 17, 'a': 18, 'good': 19, 'get': 20, 'lost': 21, 'at': 22, 'Yo': 23, 'si': 24, 'on': 25}\n"
     ]
    }
   ],
   "source": [
    "idx_to_label = ['SPANISH', 'ENGLISH']\n",
    "label_to_idx = {\"SPANISH\": 0, \"ENGLISH\": 1}\n",
    "\n",
    "word_to_idx = {}\n",
    "for sent, _ in train_data + test_data:\n",
    "    for word in sent:\n",
    "        if word not in word_to_idx:\n",
    "            word_to_idx[word] = len(word_to_idx)\n",
    "print(word_to_idx)\n",
    "\n",
    "VOCAB_SIZE = len(word_to_idx)\n",
    "NUM_LABELS = len(label_to_idx)"
   ]
  },
  {
   "cell_type": "markdown",
   "metadata": {},
   "source": [
    "Next we define our model using the inherenting from `nn.Module` approach and also two helper functions to convert our data to torch Tensors so we can use to during training."
   ]
  },
  {
   "cell_type": "code",
   "execution_count": 13,
   "metadata": {},
   "outputs": [],
   "source": [
    "class BoWClassifier(nn.Module):\n",
    "\n",
    "    def __init__(self, vocab_size, num_labels):\n",
    "        super().__init__()\n",
    "        self.linear = nn.Linear(vocab_size, num_labels)\n",
    "\n",
    "    def forward(self, bow_vector):\n",
    "        \"\"\"\n",
    "        When we're performing a classification, after passing\n",
    "        through the linear layer or also known as the affine layer\n",
    "        we also need pass it through the softmax layer to convert a vector\n",
    "        of real numbers into probability distribution, here we use\n",
    "        log softmax for numerical stability reasons.\n",
    "        \"\"\"\n",
    "        return F.log_softmax(self.linear(bow_vector), dim = 1)"
   ]
  },
  {
   "cell_type": "code",
   "execution_count": 14,
   "metadata": {},
   "outputs": [],
   "source": [
    "def make_bow_vector(sentence, word_to_idx):\n",
    "    vector = torch.zeros(len(word_to_idx))\n",
    "    for word in sentence:\n",
    "        vector[word_to_idx[word]] += 1\n",
    "\n",
    "    return vector.view(1, -1)\n",
    "\n",
    "\n",
    "def make_target(label, label_to_idx):\n",
    "    return torch.LongTensor([label_to_idx[label]])"
   ]
  },
  {
   "cell_type": "markdown",
   "metadata": {},
   "source": [
    "We are now ready to train this!"
   ]
  },
  {
   "cell_type": "code",
   "execution_count": 15,
   "metadata": {},
   "outputs": [
    {
     "name": "stdout",
     "output_type": "stream",
     "text": [
      "true label:  SPANISH  predicted label:  SPANISH\n",
      "true label:  ENGLISH  predicted label:  ENGLISH\n"
     ]
    }
   ],
   "source": [
    "model = BoWClassifier(VOCAB_SIZE, NUM_LABELS)\n",
    "\n",
    "# note that instead of using NLLLoss (negative log likelihood),\n",
    "# we could have used CrossEntropyLoss and remove the log_softmax\n",
    "# function call in our forward method. The CrossEntropyLoss docstring\n",
    "# explciitly states that this criterion combines `LogSoftMax` and\n",
    "# `NLLLoss` in one single class.\n",
    "criterion = nn.NLLLoss()\n",
    "optimizer = optim.SGD(model.parameters(), lr = 0.1)\n",
    "\n",
    "n_epochs = 100\n",
    "for epoch in range(n_epochs):\n",
    "    for instance, label in train_data:\n",
    "        bow_vector = Variable(make_bow_vector(instance, word_to_idx))\n",
    "        target = Variable(make_target(label, label_to_idx))\n",
    "\n",
    "        # standard step to perform the forward and backward step\n",
    "        model.zero_grad()\n",
    "        log_probs = model(bow_vector)\n",
    "        loss = criterion(log_probs, target)\n",
    "        loss.backward()\n",
    "        optimizer.step()\n",
    "\n",
    "\n",
    "# predict on the test data to check if the model actually learned anything\n",
    "for instance, label in test_data:\n",
    "    bow_vec = Variable(make_bow_vector(instance, word_to_idx))\n",
    "    log_probs = model(bow_vec)\n",
    "\n",
    "    y_pred = np.argmax(log_probs.data[0].numpy())\n",
    "    label_pred = idx_to_label[y_pred]\n",
    "    print('true label: ', label, ' predicted label: ', label_pred)"
   ]
  },
  {
   "cell_type": "markdown",
   "metadata": {},
   "source": [
    "**Important:** Pytorch 0.4.0 introduced many new enhancements/changes. It's worth the time to read through the migration guide. [PyTorch Documentation: PyTorch 0.4.0 Migration Guide](https://pytorch.org/2018/04/22/0_4_0-migration-guide.html)"
   ]
  },
  {
   "cell_type": "markdown",
   "metadata": {},
   "source": [
    "## Recurrent Neural Network (RNN)"
   ]
  },
  {
   "cell_type": "markdown",
   "metadata": {},
   "source": [
    "The idea behind RNN is to make use of sequential information that exists in our dataset. In feedforward neural network, we assume that all inputs and outputs are independent of each other. But for some tasks, this might not be the best way to tackle the problem. For example, in Natural Language Processing (NLP) applications, if we wish to predict the next word in a sentence (one business application of this is [Swiftkey](https://en.wikipedia.org/wiki/SwiftKey)), then we could imagine that knowing the word that comes before it can come in handy."
   ]
  },
  {
   "cell_type": "markdown",
   "metadata": {},
   "source": [
    "### Vanilla RNN"
   ]
  },
  {
   "cell_type": "markdown",
   "metadata": {},
   "source": [
    "The input $x$ will be a sequence of words, and each $x_t$ is a single word. And because of how matrix multiplication works, we can't simply use a word index like (36) as an input, instead we represent each word as a one-hot vector with a size of the total number of vocabulary. For example, the word with index 36 have the value 1 at position 36 and the rest of the value in the vector would all be 0's."
   ]
  },
  {
   "cell_type": "code",
   "execution_count": 16,
   "metadata": {},
   "outputs": [
    {
     "name": "stdout",
     "output_type": "stream",
     "text": [
      "sequence input size torch.Size([1, 5, 4])\n",
      "out size torch.Size([1, 5, 2])\n",
      "sequence size torch.Size([1, 1, 2])\n",
      "\n",
      "comparing rnn cell output:\n",
      "tensor([[-0.7762,  0.8319]])\n"
     ]
    },
    {
     "data": {
      "text/plain": [
       "tensor([[-0.7762,  0.8319]])"
      ]
     },
     "execution_count": 16,
     "metadata": {},
     "output_type": "execute_result"
    }
   ],
   "source": [
    "torch.manual_seed(777)\n",
    "\n",
    "# suppose we have a\n",
    "# one hot encoding for each char in 'hello'\n",
    "# and the sequence length for the word 'hello' is 5\n",
    "seq_len = 5\n",
    "h = [1, 0, 0, 0]\n",
    "e = [0, 1, 0, 0]\n",
    "l = [0, 0, 1, 0]\n",
    "o = [0, 0, 0, 1]\n",
    "\n",
    "# here we specify a single RNN cell with the property of\n",
    "# input_dim (4) -> output_dim (2)\n",
    "# batch_first explained in the following\n",
    "rnn_cell = nn.RNN(input_size = 4, hidden_size = 2, batch_first = True)\n",
    "\n",
    "# our input shape should be of shape\n",
    "# (batch, seq_len, input_size) when batch_first=True;\n",
    "# the input size basically refers to the number of features\n",
    "# (seq_len, batch_size, input_size) when batch_first=False (default)\n",
    "# thus we reshape our input to the appropriate size, torch.view is\n",
    "# equivalent to numpy.reshape\n",
    "inputs = Variable(torch.Tensor([h, e, l, l, o]))\n",
    "inputs = inputs.view(1, 5, -1)\n",
    "\n",
    "# our hidden is the weights that gets passed along the cells,\n",
    "# here we initialize some random values for it:\n",
    "# (batch, num_layers * num_directions, hidden_size) for batch_first=True\n",
    "# disregard the second argument as of now\n",
    "hidden = Variable(torch.zeros(1, 1, 2))\n",
    "out, hidden = rnn_cell(inputs, hidden)\n",
    "print('sequence input size', inputs.size())\n",
    "print('out size', out.size())\n",
    "print('sequence size', hidden.size())\n",
    "\n",
    "# the first value returned by the rnn cell is all\n",
    "# of the hidden state throughout the sequence, while\n",
    "# the second value is the most recent hidden state;\n",
    "# hence we can compare the last slice of the the first\n",
    "# value with the second value to confirm that they are\n",
    "# the same\n",
    "print('\\ncomparing rnn cell output:')\n",
    "print(out[:, -1, :])\n",
    "hidden[0]"
   ]
  },
  {
   "cell_type": "markdown",
   "metadata": {},
   "source": [
    "In the next section, we'll teach our RNN to produce \"ihello\" from \"hihell\"."
   ]
  },
  {
   "cell_type": "code",
   "execution_count": 17,
   "metadata": {},
   "outputs": [],
   "source": [
    "# create an index to character mapping\n",
    "idx2char = ['h', 'i', 'e', 'l', 'o']\n",
    "\n",
    "# Teach hihell -> ihello\n",
    "x_data = [[0, 1, 0, 2, 3, 3]]    # hihell\n",
    "x_one_hot = [[[1, 0, 0, 0, 0],   # h 0\n",
    "              [0, 1, 0, 0, 0],   # i 1\n",
    "              [1, 0, 0, 0, 0],   # h 0\n",
    "              [0, 0, 1, 0, 0],   # e 2\n",
    "              [0, 0, 0, 1, 0],   # l 3\n",
    "              [0, 0, 0, 1, 0]]]  # l 3\n",
    "\n",
    "x_one_hot = np.asarray(x_one_hot)\n",
    "y_data = np.asarray([1, 0, 2, 3, 3, 4])  # ihello\n",
    "\n",
    "# As we have one batch of samples, we will change them to variables only once\n",
    "inputs = Variable(torch.Tensor(x_one_hot))\n",
    "labels = Variable(torch.LongTensor(y_data))\n",
    "\n",
    "# hyperparameters\n",
    "seq_len = 6      # |hihell| == 6, equivalent to time step\n",
    "input_size = 5   # one-hot size\n",
    "batch_size = 1   # one sentence per batch\n",
    "num_layers = 1   # one-layer rnn\n",
    "num_classes = 5  # predicting 5 distinct character\n",
    "hidden_size = 4  # output from the RNN"
   ]
  },
  {
   "cell_type": "code",
   "execution_count": 18,
   "metadata": {},
   "outputs": [],
   "source": [
    "class RNN(nn.Module):\n",
    "    \"\"\"\n",
    "    The RNN model will be a RNN followed by a linear layer,\n",
    "    i.e. a fully-connected layer\n",
    "    \"\"\"\n",
    "    def __init__(self, seq_len, num_classes, input_size, hidden_size, num_layers):\n",
    "        super().__init__()\n",
    "        self.seq_len = seq_len\n",
    "        self.num_layers = num_layers\n",
    "        self.input_size = input_size\n",
    "        self.num_classes = num_classes\n",
    "        self.hidden_size = hidden_size\n",
    "        self.rnn = nn.RNN(input_size, hidden_size, batch_first = True)\n",
    "        self.linear = nn.Linear(hidden_size, num_classes)\n",
    "\n",
    "    def forward(self, x):\n",
    "        # assuming batch_first = True for RNN cells\n",
    "        batch_size = x.size(0)\n",
    "        hidden = self._init_hidden(batch_size)\n",
    "        x = x.view(batch_size, self.seq_len, self.input_size)\n",
    "\n",
    "        # apart from the output, rnn also gives us the hidden\n",
    "        # cell, this gives us the opportunity to pass it to\n",
    "        # the next cell if needed; we won't be needing it here\n",
    "        # because the nn.RNN already computed all the time steps\n",
    "        # for us. rnn_out will of size [batch_size, seq_len, hidden_size]\n",
    "        rnn_out, _ = self.rnn(x, hidden)\n",
    "        linear_out = self.linear(rnn_out.view(-1, hidden_size))\n",
    "        return linear_out\n",
    "\n",
    "    def _init_hidden(self, batch_size):\n",
    "        \"\"\"\n",
    "        Initialize hidden cell states, assuming\n",
    "        batch_first = True for RNN cells\n",
    "        \"\"\"\n",
    "        return Variable(torch.zeros(\n",
    "            batch_size, self.num_layers, self.hidden_size))"
   ]
  },
  {
   "cell_type": "code",
   "execution_count": 19,
   "metadata": {},
   "outputs": [
    {
     "name": "stdout",
     "output_type": "stream",
     "text": [
      "network architecture:\n",
      " RNN(\n",
      "  (rnn): RNN(5, 4, batch_first=True)\n",
      "  (linear): Linear(in_features=4, out_features=5, bias=True)\n",
      ")\n",
      "epoch: 1, loss: 1.756\n",
      "Predicted string:  eeeeee\n",
      "epoch: 2, loss: 1.626\n",
      "Predicted string:  ehhhhh\n",
      "epoch: 3, loss: 1.485\n",
      "Predicted string:  elllll\n",
      "epoch: 4, loss: 1.405\n",
      "Predicted string:  llllll\n",
      "epoch: 5, loss: 1.293\n",
      "Predicted string:  illlll\n",
      "epoch: 6, loss: 1.217\n",
      "Predicted string:  iiilll\n",
      "epoch: 7, loss: 1.057\n",
      "Predicted string:  iollll\n",
      "epoch: 8, loss: 0.967\n",
      "Predicted string:  ielllo\n",
      "epoch: 9, loss: 0.837\n",
      "Predicted string:  ihlllo\n",
      "epoch: 10, loss: 0.696\n",
      "Predicted string:  ihello\n",
      "epoch: 11, loss: 0.615\n",
      "Predicted string:  ihello\n",
      "epoch: 12, loss: 0.535\n",
      "Predicted string:  ihhllo\n",
      "epoch: 13, loss: 0.452\n",
      "Predicted string:  ihhllo\n",
      "epoch: 14, loss: 0.387\n",
      "Predicted string:  ihello\n",
      "epoch: 15, loss: 0.322\n",
      "Predicted string:  ihello\n"
     ]
    }
   ],
   "source": [
    "# Set loss, optimizer and the RNN model\n",
    "torch.manual_seed(777)\n",
    "rnn = RNN(seq_len, num_classes, input_size, hidden_size, num_layers)\n",
    "print('network architecture:\\n', rnn)\n",
    "\n",
    "# train the model\n",
    "num_epochs = 15\n",
    "criterion = nn.CrossEntropyLoss()\n",
    "optimizer = optim.Adam(rnn.parameters(), lr = 0.1)\n",
    "for epoch in range(1, num_epochs + 1):\n",
    "    optimizer.zero_grad()\n",
    "    outputs = rnn(inputs)\n",
    "    loss = criterion(outputs, labels)\n",
    "    loss.backward()\n",
    "    optimizer.step()\n",
    "\n",
    "    # check the current predicted string\n",
    "    # max gives the maximum value and its\n",
    "    # corresponding index, we will only\n",
    "    # be needing the index\n",
    "    _, idx = outputs.max(dim = 1)\n",
    "    idx = idx.data.numpy()\n",
    "    result_str = [idx2char[c] for c in idx]\n",
    "    print('epoch: {}, loss: {:1.3f}'.format(epoch, loss.item()))\n",
    "    print('Predicted string: ', ''.join(result_str))"
   ]
  },
  {
   "cell_type": "markdown",
   "metadata": {},
   "source": [
    "### LSTM"
   ]
  },
  {
   "cell_type": "markdown",
   "metadata": {},
   "source": [
    "The example below uses an LSTM to generate part of speech tags. The usage of LSTM API is essentially the same as the RNN we were using in the last section. Expect in this example, we will prepare the word to index mapping ourselves and as for the modeling part, we will add an embedding layer before the LSTM layer, this is a common technique in NLP applications. So for each word, instead of using the one hot encoding way of representation the data (which can be inefficient and it treats all words as independent entities with no relationships amongst each other), word embeddings will compress them into a lower dimension that encode the semantics of the words, i.e. how similar each word is used within our given corpus."
   ]
  },
  {
   "cell_type": "code",
   "execution_count": 20,
   "metadata": {},
   "outputs": [
    {
     "data": {
      "text/plain": [
       "{'The': 0,\n",
       " 'dog': 1,\n",
       " 'ate': 2,\n",
       " 'the': 3,\n",
       " 'apple': 4,\n",
       " 'Everybody': 5,\n",
       " 'read': 6,\n",
       " 'that': 7,\n",
       " 'book': 8}"
      ]
     },
     "execution_count": 20,
     "metadata": {},
     "output_type": "execute_result"
    }
   ],
   "source": [
    "# These will usually be more like 32 or 64 dimensional.\n",
    "# We will keep them small for this toy example\n",
    "EMBEDDING_SIZE = 6\n",
    "HIDDEN_SIZE = 6\n",
    "\n",
    "training_data = [\n",
    "    (\"The dog ate the apple\".split(), [\"DET\", \"NN\", \"V\", \"DET\", \"NN\"]),\n",
    "    (\"Everybody read that book\".split(), [\"NN\", \"V\", \"DET\", \"NN\"])\n",
    "]\n",
    "\n",
    "idx_to_tag = ['DET', 'NN', 'V']\n",
    "tag_to_idx = {'DET': 0, 'NN': 1, 'V': 2}\n",
    "\n",
    "word_to_idx = {}\n",
    "for sent, tags in training_data:\n",
    "    for word in sent:\n",
    "        if word not in word_to_idx:\n",
    "            word_to_idx[word] = len(word_to_idx)\n",
    "\n",
    "word_to_idx"
   ]
  },
  {
   "cell_type": "code",
   "execution_count": 21,
   "metadata": {},
   "outputs": [
    {
     "data": {
      "text/plain": [
       "tensor([ 0,  1,  2,  3,  4])"
      ]
     },
     "execution_count": 21,
     "metadata": {},
     "output_type": "execute_result"
    }
   ],
   "source": [
    "def prepare_sequence(seq, to_idx):\n",
    "    \"\"\"Convert sentence/sequence to torch Tensors\"\"\"\n",
    "    idxs = [to_idx[w] for w in seq]\n",
    "    tensor = torch.LongTensor(idxs)\n",
    "    return Variable(tensor)\n",
    "\n",
    "seq = training_data[0][0]\n",
    "inputs = prepare_sequence(seq, word_to_idx)\n",
    "inputs"
   ]
  },
  {
   "cell_type": "code",
   "execution_count": 22,
   "metadata": {},
   "outputs": [],
   "source": [
    "class LSTMTagger(nn.Module):\n",
    "\n",
    "    def __init__(self, embedding_size, hidden_size, vocab_size, tagset_size):\n",
    "        super().__init__()\n",
    "        self.embedding_size = embedding_size\n",
    "        self.hidden_size = hidden_size\n",
    "        self.vocab_size = vocab_size\n",
    "        self.tagset_size = tagset_size\n",
    "\n",
    "        self.embedding = nn.Embedding(vocab_size, embedding_size)\n",
    "        self.lstm = nn.LSTM(embedding_size, hidden_size)\n",
    "        self.hidden2tag = nn.Linear(hidden_size, tagset_size)\n",
    "\n",
    "    def forward(self, x):\n",
    "        embed = self.embedding(x)\n",
    "        hidden = self._init_hidden()\n",
    "\n",
    "        # the second dimension refers to the batch size, which we've hard-coded\n",
    "        # it as 1 throughout the example\n",
    "        lstm_out, lstm_hidden = self.lstm(embed.view(len(x), 1, -1), hidden)\n",
    "        output = self.hidden2tag(lstm_out.view(len(x), -1))\n",
    "        return output\n",
    "\n",
    "    def _init_hidden(self):\n",
    "        # the dimension semantics are [num_layers, batch_size, hidden_size]\n",
    "        return (Variable(torch.rand(1, 1, self.hidden_size)),\n",
    "                Variable(torch.rand(1, 1, self.hidden_size)))"
   ]
  },
  {
   "cell_type": "code",
   "execution_count": 23,
   "metadata": {},
   "outputs": [],
   "source": [
    "model = LSTMTagger(EMBEDDING_SIZE, HIDDEN_SIZE, len(word_to_idx), len(tag_to_idx))\n",
    "criterion = nn.CrossEntropyLoss()\n",
    "optimizer = optim.SGD(model.parameters(), lr = 0.1)\n",
    "\n",
    "epochs = 300\n",
    "for epoch in range(epochs):\n",
    "    for sentence, tags in training_data:\n",
    "        model.zero_grad()\n",
    "\n",
    "        sentence = prepare_sequence(sentence, word_to_idx)\n",
    "        target = prepare_sequence(tags, tag_to_idx)\n",
    "\n",
    "        output = model(sentence)\n",
    "        loss = criterion(output, target)\n",
    "        loss.backward()\n",
    "        optimizer.step()"
   ]
  },
  {
   "cell_type": "code",
   "execution_count": 24,
   "metadata": {},
   "outputs": [
    {
     "name": "stdout",
     "output_type": "stream",
     "text": [
      "expected target:  ['DET', 'NN', 'V', 'DET', 'NN']\n",
      "generated target:  ['DET', 'NN', 'V', 'DET', 'NN']\n"
     ]
    }
   ],
   "source": [
    "inputs = prepare_sequence(training_data[0][0], word_to_idx)\n",
    "tag_scores = model(inputs)\n",
    "\n",
    "# validating that the sentence \"the dog ate the apple\".\n",
    "# the correct tag should be DET NOUN VERB DET NOUN\n",
    "print('expected target: ', training_data[0][1])\n",
    "\n",
    "tag_scores = tag_scores.data.numpy()\n",
    "tag = [idx_to_tag[idx] for idx in np.argmax(tag_scores, axis = 1)]\n",
    "print('generated target: ', tag)"
   ]
  },
  {
   "cell_type": "markdown",
   "metadata": {},
   "source": [
    "# Reference\n",
    "\n",
    "- [Github: Simple PyTorch Tutorials Zero to ALL!](https://github.com/hunkim/PyTorchZeroToAll)\n",
    "- [Github: PyTorch Tutorial for Deep Learning Researchers](https://github.com/yunjey/pytorch-tutorial)\n",
    "- [PyTorch Documentation: Deep Learning for NLP with Pytorch](http://pytorch.org/tutorials/beginner/deep_learning_nlp_tutorial.html)\n",
    "- [PyTorch Documentation: Deep Learning with PyTorch: A 60 Minute Blitz](http://pytorch.org/tutorials/beginner/deep_learning_60min_blitz.html)"
   ]
  }
 ],
 "metadata": {
  "kernelspec": {
   "display_name": "Python 3",
   "language": "python",
   "name": "python3"
  },
  "language_info": {
   "codemirror_mode": {
    "name": "ipython",
    "version": 3
   },
   "file_extension": ".py",
   "mimetype": "text/x-python",
   "name": "python",
   "nbconvert_exporter": "python",
   "pygments_lexer": "ipython3",
   "version": "3.6.4"
  },
  "toc": {
   "nav_menu": {},
   "number_sections": true,
   "sideBar": true,
   "skip_h1_title": false,
   "title_cell": "Table of Contents",
   "title_sidebar": "Contents",
   "toc_cell": true,
   "toc_position": {
    "height": "calc(100% - 180px)",
    "left": "10px",
    "top": "150px",
    "width": "256px"
   },
   "toc_section_display": true,
   "toc_window_display": true
  },
  "varInspector": {
   "cols": {
    "lenName": 16,
    "lenType": 16,
    "lenVar": 40
   },
   "kernels_config": {
    "python": {
     "delete_cmd_postfix": "",
     "delete_cmd_prefix": "del ",
     "library": "var_list.py",
     "varRefreshCmd": "print(var_dic_list())"
    },
    "r": {
     "delete_cmd_postfix": ") ",
     "delete_cmd_prefix": "rm(",
     "library": "var_list.r",
     "varRefreshCmd": "cat(var_dic_list()) "
    }
   },
   "types_to_exclude": [
    "module",
    "function",
    "builtin_function_or_method",
    "instance",
    "_Feature"
   ],
   "window_display": false
  }
 },
 "nbformat": 4,
 "nbformat_minor": 2
}
